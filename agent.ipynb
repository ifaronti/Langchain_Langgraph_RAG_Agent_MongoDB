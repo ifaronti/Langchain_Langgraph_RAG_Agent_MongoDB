{
 "cells": [
  {
   "cell_type": "code",
   "execution_count": null,
   "id": "7c464a7b",
   "metadata": {},
   "outputs": [],
   "source": []
  },
  {
   "cell_type": "code",
   "execution_count": 2,
   "id": "e2d0728e",
   "metadata": {},
   "outputs": [],
   "source": [
    "\n",
    "from pymongo import MongoClient\n",
    "from langchain.agents import tool\n",
    "from typing import Sequence, Annotated, TypedDict\n",
    "from typing import Annotated\n",
    "from langgraph.graph.message import add_messages\n",
    "from langchain_text_splitters import RecursiveCharacterTextSplitter\n",
    "from langchain_google_genai import ChatGoogleGenerativeAI, GoogleGenerativeAIEmbeddings\n",
    "from langchain_core.prompts import ChatPromptTemplate, MessagesPlaceholder, HumanMessagePromptTemplate, SystemMessagePromptTemplate\n",
    "from langchain_core.messages import ToolMessage, BaseMessage, HumanMessage, SystemMessage\n",
    "from langchain_community.document_loaders import PyPDFLoader\n",
    "from langgraph.graph import END, StateGraph\n",
    "from langchain_mongodb import MongoDBAtlasVectorSearch\n",
    "from langchain_community.document_transformers.openai_functions import create_metadata_tagger\n",
    "from langchain_core.documents.base import Document\n",
    "from pymongo import MongoClient\n",
    "from pymongo.operations import SearchIndexModel\n",
    "from setting import settings\n",
    "import os\n",
    "from langchain_core.utils.utils import convert_to_secret_str\n"
   ]
  },
  {
   "cell_type": "code",
   "execution_count": 11,
   "id": "7b257b00",
   "metadata": {},
   "outputs": [],
   "source": [
    "llm = ChatGoogleGenerativeAI(model=\"gemini-2.0-flash-001\", api_key=settings.GOOGLE_API_KEY)\n",
    "embeddings = GoogleGenerativeAIEmbeddings(model=\"gemini-embedding-001\", google_api_key=convert_to_secret_str(settings.GOOGLE_API_KEY))\n",
    "\n",
    "dbname = \"africonomy\"\n",
    "collection_name = \"africa_outlook\"\n",
    "client = MongoClient(settings.MONGO_URI)\n",
    "db = client[dbname]\n",
    "collection = db[collection_name]"
   ]
  },
  {
   "cell_type": "code",
   "execution_count": 8,
   "id": "1d2c6d0a",
   "metadata": {},
   "outputs": [],
   "source": [
    "class AgentState(TypedDict):\n",
    "    messages:Annotated[Sequence[BaseMessage], add_messages]\n",
    "\n",
    "text_splitter = RecursiveCharacterTextSplitter(chunk_size=1000, chunk_overlap=100)"
   ]
  },
  {
   "cell_type": "code",
   "execution_count": 12,
   "id": "7f77481e",
   "metadata": {},
   "outputs": [],
   "source": [
    "file_dir = os.path.join(os.path.expanduser(\"~\"), \"Desktop\")\n",
    "file_name = \"africa_econ.pdf\"\n",
    "file_path = os.path.join(file_dir, file_name)\n",
    "\n",
    "if not os.path.isfile(file_path):\n",
    "    raise FileNotFoundError(\"The file is not found in provided directory\")\n",
    "\n",
    "try:\n",
    "    pages = PyPDFLoader(file_path).load()\n",
    "except Exception as e:\n",
    "    print(str(e))\n"
   ]
  },
  {
   "cell_type": "code",
   "execution_count": 15,
   "id": "a2cccdbe",
   "metadata": {},
   "outputs": [],
   "source": [
    "docs = text_splitter.split_documents(pages)\n",
    "\n",
    "vector_store = MongoDBAtlasVectorSearch.from_documents(\n",
    "    docs,\n",
    "    embeddings,\n",
    "    collection=collection\n",
    ")"
   ]
  },
  {
   "cell_type": "code",
   "execution_count": 16,
   "id": "843c8213",
   "metadata": {},
   "outputs": [
    {
     "name": "stdout",
     "output_type": "stream",
     "text": [
      "afronomy_index\n"
     ]
    }
   ],
   "source": [
    "vector_index_model = SearchIndexModel(\n",
    "    name=\"afronomy_index\",\n",
    "    type=\"vectorSearch\",\n",
    "    definition={\n",
    "        \"fields\":[{\n",
    "            \"type\":\"vector\",\n",
    "            \"path\":\"embeddings\",\n",
    "            \"numDimensions\":3072,\n",
    "            \"similarity\":\"cosine\",\n",
    "            \"quantization\":\"scalar\"\n",
    "        },\n",
    "        {\n",
    "            \"type\": \"filter\",\n",
    "            \"path\": \"description\"\n",
    "        }\n",
    "        ]\n",
    "    }\n",
    ")\n",
    "\n",
    "result = collection.create_search_index(model=vector_index_model)\n",
    "print(result)"
   ]
  },
  {
   "cell_type": "code",
   "execution_count": 17,
   "id": "029786fd",
   "metadata": {},
   "outputs": [],
   "source": [
    "vector_store = MongoDBAtlasVectorSearch.from_connection_string(\n",
    "    connection_string=settings.MONGO_URI,\n",
    "    namespace=f\"{dbname}.{collection_name}\",\n",
    "    embedding=embeddings,\n",
    "    index_name=\"afronomy_index\"\n",
    ")"
   ]
  },
  {
   "cell_type": "code",
   "execution_count": 18,
   "id": "f47cc876",
   "metadata": {},
   "outputs": [],
   "source": [
    "retriever = vector_store.as_retriever(\n",
    "    search_type=\"similarity_score_threshold\",\n",
    "    search_kwargs={\n",
    "        \"k\":80,\n",
    "        \"score_threshold\":0.04\n",
    "    }\n",
    ")"
   ]
  },
  {
   "cell_type": "code",
   "execution_count": 21,
   "id": "1f5940ab",
   "metadata": {},
   "outputs": [],
   "source": [
    "@tool\n",
    "def vector_retrival(query:str)->str:\n",
    "    \"\"\"Uses the query to perform vector search on the specified mongodb database\"\"\"\n",
    "    results = retriever.invoke(query)\n",
    "\n",
    "    if not results:\n",
    "        return \"Vector search returned nothing\"\n",
    "    \n",
    "    return \"\\n\".join(results)\n",
    "\n",
    "tools = [vector_retrival]\n",
    "\n",
    "tool_dict = {tool.name:tool for tool in tools}\n",
    "\n",
    "sys_prompt = \"\"\"You are an intelligent research assistant. You will assist the user on the research paper named African Economic Outlook\n",
    "- If the user asks questions not in context of the research paper, inform the user that you are only to research based on the paper\n",
    "- If user needs to provide more details for you to the search tool, inform the user as such.\n",
    "\"\"\""
   ]
  },
  {
   "cell_type": "code",
   "execution_count": 22,
   "id": "d05f54e0",
   "metadata": {},
   "outputs": [],
   "source": [
    "def agent_call(state:AgentState) -> AgentState:\n",
    "    \"\"\"Invokes the llm with state messages\"\"\"\n",
    "\n",
    "    messages = [SystemMessage(content=sys_prompt)] + list(state['messages'])\n",
    "\n",
    "    response = llm.invoke(messages)\n",
    "\n",
    "    print(\"\\n AI: \", response.content)\n",
    "\n",
    "    return {\"messages\": [response]}"
   ]
  },
  {
   "cell_type": "code",
   "execution_count": 23,
   "id": "ba0f10f4",
   "metadata": {},
   "outputs": [],
   "source": [
    "def should_continue(state:AgentState)->bool:\n",
    "    \"\"\"Returns a bool value. True if last message in state has tool_calls attribute \n",
    "    and the length of the tool_calls list is greater than 0 else returns false.\n",
    "    \"\"\"\n",
    "\n",
    "    last_msg = state['messages'][-1]\n",
    "\n",
    "    return hasattr(last_msg, \"tool_calls\") and len(last_msg.tool_calls) > 0"
   ]
  },
  {
   "cell_type": "code",
   "execution_count": 24,
   "id": "54ba8daf",
   "metadata": {},
   "outputs": [],
   "source": [
    "def tool_call(state:AgentState)->AgentState:\n",
    "    \"\"\"Invokes the tool and passes the result to state. Also checks if tool exists and llm is not hallucinating.\"\"\"\n",
    "\n",
    "    last_msg = state['messages'][-1]\n",
    "\n",
    "    tool_calls = last_msg.tool_calls\n",
    "\n",
    "    results = []\n",
    "\n",
    "    for tool in tool_calls:\n",
    "        if not tool['name'] in tool_dict:\n",
    "            result = \"Tool doesn't exist in tools list\"\n",
    "\n",
    "        else:\n",
    "            result = tool_dict[tool['name']].invoke(tool['args'].get('query', ''))\n",
    "\n",
    "        results.append(ToolMessage(tool_call_id=tool['id'], name=tool['name'], content=str(result)))\n",
    "\n",
    "    return {\"messages\": results}"
   ]
  },
  {
   "cell_type": "code",
   "execution_count": 25,
   "id": "4be1ca22",
   "metadata": {},
   "outputs": [],
   "source": [
    "graph = StateGraph(AgentState)\n",
    "\n",
    "graph.add_node('tools', tool_call)\n",
    "graph.add_node('agent', agent_call)\n",
    "graph.add_edge('tools', 'agent')\n",
    "graph.set_entry_point('agent')\n",
    "\n",
    "graph.add_conditional_edges(\n",
    "    'agent',\n",
    "    should_continue,\n",
    "    {\n",
    "        True:'tools',\n",
    "        False:END\n",
    "    }\n",
    ")\n",
    "\n",
    "agent = graph.compile()"
   ]
  },
  {
   "cell_type": "code",
   "execution_count": 26,
   "id": "d115c13f",
   "metadata": {},
   "outputs": [
    {
     "name": "stdout",
     "output_type": "stream",
     "text": [
      "\n",
      " Human:  What is the research about\n",
      "\n",
      " AI:  This research paper is the African Economic Outlook.\n",
      "\n",
      " Human:  What is the highlight of the research\n",
      "\n",
      " AI:  The African Economic Outlook research paper highlights that Africa's economy is projected to grow at 4% in 2023 and 4.3% in 2024.\n",
      "\n",
      " Human:  According to the paper, what are some of the challenges facing African economy\n",
      "\n",
      " AI:  According to the paper, some of the challenges facing the African economy include:\n",
      "\n",
      "*   Macroeconomic stability\n",
      "*   Structural transformation\n",
      "*   Private sector development\n",
      "*   Human capital\n",
      "*   Governance\n",
      "*   Climate change\n",
      "*   Debt sustainability\n",
      "\n",
      " Human:  expansiate on the chanllenges\n",
      "\n",
      " AI:  Please specify which challenges you're interested in. Are you referring to specific sectors, countries, or types of challenges (e.g., economic, social, environmental)? Providing more context will help me give you a more detailed explanation.\n",
      "\n",
      " Human:  debt sustainability\n",
      "\n",
      " AI:  To provide you with information on debt sustainability from the African Economic Outlook, could you please specify which year's report you are interested in, or any specific aspect of debt sustainability you'd like me to focus on? For example, are you interested in debt sustainability in a particular region, or the impact of specific policies on debt sustainability?\n",
      "\n",
      " Human:  debt sustainbility in 2024\n",
      "\n",
      " AI:  To provide you with information on debt sustainability in 2024 based on the African Economic Outlook, I need more details. Please specify which African country or region you're interested in, or if you're looking for a general overview of the continent.\n"
     ]
    }
   ],
   "source": [
    "user_input = input(\"\\n Enter your questions about the African Economic Outlook Paper: \")\n",
    "\n",
    "while not user_input.lower() in ['exit', 'end', 'quit']:\n",
    "    print(\"\\n Human: \", user_input)\n",
    "    agent.invoke({'messages': [HumanMessage(content=user_input)]})\n",
    "\n",
    "    user_input = input(\"\\n Enter your questions about the African Economic Outlook Paper: \")\n"
   ]
  }
 ],
 "metadata": {
  "kernelspec": {
   "display_name": "venv (3.13.2)",
   "language": "python",
   "name": "python3"
  },
  "language_info": {
   "codemirror_mode": {
    "name": "ipython",
    "version": 3
   },
   "file_extension": ".py",
   "mimetype": "text/x-python",
   "name": "python",
   "nbconvert_exporter": "python",
   "pygments_lexer": "ipython3",
   "version": "3.13.2"
  }
 },
 "nbformat": 4,
 "nbformat_minor": 5
}
