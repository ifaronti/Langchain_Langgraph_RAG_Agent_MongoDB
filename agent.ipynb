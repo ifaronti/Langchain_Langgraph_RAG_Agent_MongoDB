{
 "cells": [
  {
   "cell_type": "code",
   "execution_count": null,
   "id": "7c464a7b",
   "metadata": {},
   "outputs": [],
   "source": []
  },
  {
   "cell_type": "code",
   "execution_count": 119,
   "id": "e2d0728e",
   "metadata": {},
   "outputs": [],
   "source": [
    "\n",
    "from pymongo import MongoClient\n",
    "from langchain.agents import tool\n",
    "from typing import Sequence, Annotated, TypedDict\n",
    "from typing import Annotated\n",
    "from langgraph.graph.message import add_messages\n",
    "from langchain_text_splitters import RecursiveCharacterTextSplitter\n",
    "from langchain_google_genai import ChatGoogleGenerativeAI, GoogleGenerativeAIEmbeddings\n",
    "from langchain_core.prompts import ChatPromptTemplate, MessagesPlaceholder, HumanMessagePromptTemplate, SystemMessagePromptTemplate\n",
    "from langchain_core.messages import ToolMessage, BaseMessage, HumanMessage, SystemMessage\n",
    "from langchain_community.document_loaders import PyPDFLoader\n",
    "from langgraph.graph import END, StateGraph\n",
    "from langchain_mongodb import MongoDBAtlasVectorSearch\n",
    "from langchain_community.document_transformers.openai_functions import create_metadata_tagger\n",
    "from langchain_core.documents.base import Document\n",
    "from pymongo import MongoClient\n",
    "from pymongo.operations import SearchIndexModel\n",
    "from setting import settings\n",
    "import os\n",
    "from langchain_core.utils.utils import convert_to_secret_str\n"
   ]
  },
  {
   "cell_type": "code",
   "execution_count": 120,
   "id": "7b257b00",
   "metadata": {},
   "outputs": [],
   "source": [
    "llm = ChatGoogleGenerativeAI(model=\"gemini-2.0-flash-001\", api_key=settings.GOOGLE_API_KEY)\n",
    "embeddings = GoogleGenerativeAIEmbeddings(model=\"gemini-embedding-001\", google_api_key=convert_to_secret_str(settings.GOOGLE_API_KEY))\n",
    "\n",
    "dbname = \"africonomy\"\n",
    "collection_name = \"africa_outlook\"\n",
    "client = MongoClient(settings.MONGO_URI)\n",
    "db = client[dbname]\n",
    "collection = db[collection_name]"
   ]
  },
  {
   "cell_type": "code",
   "execution_count": 121,
   "id": "1d2c6d0a",
   "metadata": {},
   "outputs": [],
   "source": [
    "class AgentState(TypedDict):\n",
    "    messages:Annotated[Sequence[BaseMessage], add_messages]\n",
    "\n",
    "text_splitter = RecursiveCharacterTextSplitter(chunk_size=1000, chunk_overlap=100)"
   ]
  },
  {
   "cell_type": "code",
   "execution_count": 124,
   "id": "7f77481e",
   "metadata": {},
   "outputs": [],
   "source": [
    "file_dir = os.path.join(os.path.expanduser(\"~\"), \"Desktop\")\n",
    "file_name = \"africa_econ.pdf\"\n",
    "file_path = os.path.join(file_dir, file_name)\n",
    "\n",
    "if not os.path.isfile(file_path):\n",
    "    raise FileNotFoundError(\"The file is not found in provided directory\")\n",
    "\n",
    "try:\n",
    "    pages = PyPDFLoader(file_path).load()\n",
    "except Exception as e:\n",
    "    print(str(e))\n"
   ]
  },
  {
   "cell_type": "code",
   "execution_count": 125,
   "id": "a2cccdbe",
   "metadata": {},
   "outputs": [],
   "source": [
    "docs = text_splitter.split_documents(pages)\n",
    "\n",
    "meta_docs:list[Document] = []\n",
    "for doc in docs:\n",
    "    meta_data = {\n",
    "        \"title\": \" \".join(doc.page_content.split(\" \")[:20]),\n",
    "        \"description\": \" \".join(doc.page_content.split(\" \")[20:][:100]),\n",
    "        \"keywords\": doc.page_content.split(\" \")[:20] \n",
    "    }\n",
    "\n",
    "    meta_docs.append(Document(page_content=doc.page_content, metadata=meta_data))\n",
    "\n",
    "vector_store = MongoDBAtlasVectorSearch.from_documents(\n",
    "    meta_docs,\n",
    "    embeddings,\n",
    "    collection=collection\n",
    ")"
   ]
  },
  {
   "cell_type": "code",
   "execution_count": 144,
   "id": "843c8213",
   "metadata": {},
   "outputs": [
    {
     "name": "stdout",
     "output_type": "stream",
     "text": [
      "afronomy_index\n"
     ]
    }
   ],
   "source": [
    "vector_index_model = SearchIndexModel(\n",
    "    name=\"afronomy_index\",\n",
    "    type=\"vectorSearch\",\n",
    "    definition={\n",
    "        \"fields\":[\n",
    "            {\n",
    "                \"type\":\"vector\",\n",
    "                \"path\":\"embedding\",\n",
    "                \"numDimensions\":3072,\n",
    "                \"similarity\":\"cosine\",\n",
    "                \"quantization\":\"scalar\"\n",
    "            },\n",
    "            {\n",
    "                \"type\": \"filter\",\n",
    "                \"path\": \"description\",\n",
    "            }\n",
    "        ]\n",
    "    }\n",
    ")\n",
    "\n",
    "result = collection.create_search_index(model=vector_index_model)\n",
    "print(result)"
   ]
  },
  {
   "cell_type": "code",
   "execution_count": 145,
   "id": "029786fd",
   "metadata": {},
   "outputs": [],
   "source": [
    "vector_store = MongoDBAtlasVectorSearch.from_connection_string(\n",
    "    connection_string=settings.MONGO_URI,\n",
    "    namespace=f\"{dbname}.{collection_name}\",\n",
    "    embedding=embeddings,\n",
    "    index_name=\"afronomy_index\"\n",
    ")"
   ]
  },
  {
   "cell_type": "code",
   "execution_count": 173,
   "id": "1f5940ab",
   "metadata": {},
   "outputs": [],
   "source": [
    "@tool()\n",
    "def retrieval_tool(query:str):\n",
    "    \"\"\"Uses the query to perform vector search on the specified mongodb database\"\"\"\n",
    "\n",
    "    retriever = vector_store.as_retriever(\n",
    "        search_type=\"similarity_score_threshold\",\n",
    "        search_kwargs={\n",
    "            \"k\":100,\n",
    "            \"score_threshold\":0.01,\n",
    "            \"pre-filter\":{\n",
    "                \"description\": {\n",
    "                    \"$regex\":str(query)\n",
    "                }\n",
    "            }\n",
    "        }\n",
    "    )\n",
    "\n",
    "    results = retriever.invoke(query)\n",
    "    print(\"Total documents found: \",len(results))\n",
    "\n",
    "    if not results:\n",
    "        return \"Vector search returned nothing\"\n",
    "    \n",
    "    return results\n",
    "\n",
    "tools = [retrieval_tool]\n",
    "\n",
    "tool_dict = {tool.name:tool for tool in tools}\n",
    "llm = llm.bind_tools(tools)"
   ]
  },
  {
   "cell_type": "code",
   "execution_count": null,
   "id": "d05f54e0",
   "metadata": {},
   "outputs": [],
   "source": [
    "\n",
    "sys_prompt = \"\"\"\n",
    "    You are a research assistant who can analyze given document and give insightful details about provided texts.\n",
    "    There is a tool that calls the vector database to ensure context based documents are provided for accurate responses.\n",
    "\n",
    "    - If a user needs to provide more details inform as such.\n",
    "    - If a user asks unrelated questions, tell the user it is beyond the scope of the research.\n",
    "\"\"\"\n",
    "\n",
    "def agent_call(state:AgentState) -> AgentState:\n",
    "    \"\"\"Invokes the llm with state messages\"\"\"\n",
    "\n",
    "    messages = [SystemMessage(content=sys_prompt)] + list(state['messages'])\n",
    "\n",
    "    response = llm.invoke(messages)\n",
    "\n",
    "    print(\"\\n AI: \", response.content)\n",
    "\n",
    "    return {\"messages\": [response]}"
   ]
  },
  {
   "cell_type": "code",
   "execution_count": 175,
   "id": "ba0f10f4",
   "metadata": {},
   "outputs": [],
   "source": [
    "def should_continue(state:AgentState)->bool:\n",
    "    \"\"\"Returns a bool value. True if last message in state has tool_calls attribute \n",
    "    and the length of the tool_calls list is greater than 0 else returns false.\n",
    "    \"\"\"\n",
    "\n",
    "    last_msg = state['messages'][-1]\n",
    "\n",
    "    return hasattr(last_msg, \"tool_calls\") and len(last_msg.tool_calls) > 0"
   ]
  },
  {
   "cell_type": "code",
   "execution_count": 176,
   "id": "54ba8daf",
   "metadata": {},
   "outputs": [],
   "source": [
    "def tool_call(state:AgentState)->AgentState:\n",
    "    \"\"\"Invokes tool and feeds the response to the llm for generation.\n",
    "    Also prevents hallucination by ensuring tool exists and not just made up by agent.\n",
    "    \"\"\"\n",
    "\n",
    "    last_msg = state['messages'][-1]\n",
    "\n",
    "    tool_calls = last_msg.tool_calls\n",
    "\n",
    "    results = []\n",
    "\n",
    "    for tool in tool_calls:\n",
    "        if not tool['name'] in tool_dict:\n",
    "            result = \"Tool doesn't exist in tools list\"\n",
    "            print(\"Invalid tool name.\")\n",
    "\n",
    "        else:\n",
    "            print(\"Calling this tool: \", tool['name'])\n",
    "            result = tool_dict[tool['name']].invoke(tool['args'].get('query', ''))\n",
    "\n",
    "        results.append(ToolMessage(tool_call_id=tool['id'], name=tool['name'], content=str(result)))\n",
    "\n",
    "    return {\"messages\": results}"
   ]
  },
  {
   "cell_type": "code",
   "execution_count": 177,
   "id": "4be1ca22",
   "metadata": {},
   "outputs": [],
   "source": [
    "graph = StateGraph(AgentState)\n",
    "\n",
    "graph.add_node('tools', tool_call)\n",
    "graph.add_node('agent', agent_call)\n",
    "graph.add_edge('tools', 'agent')\n",
    "graph.set_entry_point('agent')\n",
    "\n",
    "graph.add_conditional_edges(\n",
    "    'agent',\n",
    "    should_continue,\n",
    "    {\n",
    "        True:'tools',\n",
    "        False:END\n",
    "    }\n",
    ")\n",
    "\n",
    "agent = graph.compile()"
   ]
  },
  {
   "cell_type": "code",
   "execution_count": 178,
   "id": "d115c13f",
   "metadata": {},
   "outputs": [
    {
     "name": "stdout",
     "output_type": "stream",
     "text": [
      "\n",
      " Human:  what is 1+1\n",
      "\n",
      " AI:  This is beyond the scope of my research capabilities. I am designed to analyze documents and provide insights from text.\n",
      "\n",
      " Human:  explain Nigeria's economic growth projections\n",
      "\n",
      " AI:  \n",
      "Calling this tool:  retrieval_tool\n",
      "Total documents found:  100\n",
      "\n",
      " AI:  Nigeria's economic growth is projected to moderate to 3.2% in 2025 and 3.1% in 2026, influenced by increased global uncertainty. The economy is expected to be driven by services and industrial expansion as inflation moderates and oil production increases. However, these projections are subject to downside risks, including rising geopolitical tensions, policy uncertainty, volatile commodity prices, lower oil prices, slowdown in reform momentum, insecurity, and adverse weather events.\n",
      "\n",
      " Human:  what is Ghana's response to the debt issues\n",
      "\n",
      " AI:  \n",
      "Calling this tool:  retrieval_tool\n",
      "Total documents found:  100\n",
      "\n",
      " AI:  Ghana's response to debt issues includes:\n",
      "\n",
      "1.  **Default and Restructuring:** In December 2022, Ghana defaulted on most of its domestic debt. In October 2023, the government completed a domestic debt restructuring, swapping local currency debt for longer-dated debt at lower interest rates.\n",
      "2.  **Fiscal Consolidation:** Ghana has embarked on a fiscal consolidation program to mitigate risks and regain debt sustainability.\n",
      "3.  **Commitment to Fiscal Consolidation:** Strong commitment to fiscal consolidation is seen as key to graduating to lower levels of risk and regaining debt sustainability.\n",
      "4.  **Pre-emptive Debt Restructuring:** Ghana is mentioned alongside Zambia as demonstrating that debt restructuring, if done promptly, could prevent countries from falling into debt distress.\n",
      "5.  **New Cash-Reserve Ratio:** In April 2024, the Bank of Ghana introduced a new cash-reserve ratio to boost credit growth to the economy, with higher reserve requirements for banks with lower loan-to-deposit ratios.\n",
      "6.  **Debt Management Strategy:** Ghana is advised to have debt sustainability analyses and medium-term debt restructuring strategies as part of a routine debt management toolkit for policymakers.\n",
      "7.  **Reducing Reliance on Aid:** Ghana is advised to take deliberate steps to reduce the share of aid in national budgets to safeguard fiscal autonomy and policy flexibility by strengthening domestic revenue mobilization.\n",
      "8.  **Fiscal Discipline and Economic Growth:** Ghana's public debt-to-GDP ratio is estimated to have declined due to fiscal discipline and rebounding economic growth.\n",
      "9.  **Progress in Debt Restructuring:** Ghana's upgrade, while not fully escaping the high-risk category, demonstrates the country’s progress in debt restructuring to restore fiscal credibility.\n",
      "10. **New Taxes:** Ghana has introduced new taxes such as the Emission Tax and the Plastic and Packaging Tax.\n"
     ]
    }
   ],
   "source": [
    "user_input = input(\"\\n Enter your questions about the African Economic Outlook Paper: \")\n",
    "\n",
    "while not user_input.lower() in ['exit', 'end', 'quit']:\n",
    "    print(\"\\n Human: \", user_input)\n",
    "    agent.invoke({'messages': [HumanMessage(content=user_input)]})\n",
    "    user_input = input(\"\\n Enter your questions about the African Economic Outlook Paper: \")\n"
   ]
  }
 ],
 "metadata": {
  "kernelspec": {
   "display_name": "venv (3.13.2)",
   "language": "python",
   "name": "python3"
  },
  "language_info": {
   "codemirror_mode": {
    "name": "ipython",
    "version": 3
   },
   "file_extension": ".py",
   "mimetype": "text/x-python",
   "name": "python",
   "nbconvert_exporter": "python",
   "pygments_lexer": "ipython3",
   "version": "3.13.2"
  }
 },
 "nbformat": 4,
 "nbformat_minor": 5
}
